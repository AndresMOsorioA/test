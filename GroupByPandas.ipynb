{
 "cells": [
  {
   "cell_type": "markdown",
   "id": "e3fbebeb-d4b6-4c86-a79e-9f243f0f016d",
   "metadata": {},
   "source": [
    "1) Usando el fichero WHO.csv, ¿Cuál es el volumen total de CO2 emitido por cada continente? "
   ]
  },
  {
   "cell_type": "code",
   "execution_count": 2,
   "id": "b9674b38-1cc9-4018-bf4b-56318c792b94",
   "metadata": {},
   "outputs": [
    {
     "data": {
      "text/plain": [
       "Continent\n",
       "1    1712275.15\n",
       "2    6574395.81\n",
       "3     801412.05\n",
       "4    6739887.62\n",
       "5     975690.21\n",
       "6    3651036.81\n",
       "7    7140179.57\n",
       "Name: Total_CO2_emissions, dtype: float64"
      ]
     },
     "execution_count": 2,
     "metadata": {},
     "output_type": "execute_result"
    }
   ],
   "source": [
    "import pandas as pd\n",
    "import numpy as np\n",
    "import random\n",
    "df = pd.read_csv(\"data/WHO.csv\")\n",
    "\n",
    "bycontinent = df.groupby(\"Continent\")\n",
    "co2bycontinent = bycontinent[\"Total_CO2_emissions\"].sum()\n",
    "co2bycontinent"
   ]
  },
  {
   "cell_type": "markdown",
   "id": "ec9e5b40-a7ea-4bc1-bd25-e79c6c596f86",
   "metadata": {},
   "source": [
    "2) ¿Cuál es el número de paises por continente?"
   ]
  },
  {
   "cell_type": "code",
   "execution_count": 28,
   "id": "ffb784b1-50ba-4ca3-aa9e-4c132d3aa800",
   "metadata": {},
   "outputs": [
    {
     "data": {
      "text/plain": [
       "Continent\n",
       "1    21\n",
       "2    51\n",
       "3    48\n",
       "4     7\n",
       "5    31\n",
       "6    35\n",
       "7     9\n",
       "Name: Country, dtype: int64"
      ]
     },
     "execution_count": 28,
     "metadata": {},
     "output_type": "execute_result"
    }
   ],
   "source": [
    "countriesbycontinent = bycontinent[\"Country\"].count()\n",
    "countriesbycontinent"
   ]
  },
  {
   "cell_type": "markdown",
   "id": "bfb56670-34a5-4721-8d06-f909ad6386ab",
   "metadata": {},
   "source": [
    "3) Del conjunto “who.csv” selecciona 30 paises al azar y sobre ellos calcula la media de “Net primary school enrolment ratio female (%)” agrupados por: Continente\n",
    "\n",
    "   3b) Repite la anterior actividad pero ahora con todos los paises. ¿Sale la misma media?"
   ]
  },
  {
   "cell_type": "code",
   "execution_count": 54,
   "id": "1ba5f1d6-67e5-4a4b-b7d2-66eaef2488ec",
   "metadata": {},
   "outputs": [
    {
     "data": {
      "text/plain": [
       "[103,\n",
       " 200,\n",
       " 77,\n",
       " 122,\n",
       " 91,\n",
       " 149,\n",
       " 55,\n",
       " 129,\n",
       " 35,\n",
       " 72,\n",
       " 35,\n",
       " 193,\n",
       " 24,\n",
       " 158,\n",
       " 64,\n",
       " 136,\n",
       " 180,\n",
       " 154,\n",
       " 37,\n",
       " 79,\n",
       " 25,\n",
       " 186,\n",
       " 18,\n",
       " 175,\n",
       " 84,\n",
       " 120,\n",
       " 143,\n",
       " 25,\n",
       " 90,\n",
       " 111]"
      ]
     },
     "execution_count": 54,
     "metadata": {},
     "output_type": "execute_result"
    }
   ],
   "source": [
    "randomvector = []\n",
    "i = 0\n",
    "while i < 30:\n",
    "    \n",
    "    randomvector.append(random.randint(0,202))\n",
    "    i = i+1\n",
    "randomvector"
   ]
  },
  {
   "cell_type": "code",
   "execution_count": 70,
   "id": "1ee60a4b-977e-469c-ae76-741dd1566baf",
   "metadata": {},
   "outputs": [
    {
     "data": {
      "text/plain": [
       "Continent\n",
       "1    89.333333\n",
       "2    91.166667\n",
       "3    69.900000\n",
       "4    98.000000\n",
       "5    84.000000\n",
       "6    93.500000\n",
       "7    96.000000\n",
       "Name: Net primary school enrolment ratio female (%), dtype: float64"
      ]
     },
     "execution_count": 70,
     "metadata": {},
     "output_type": "execute_result"
    }
   ],
   "source": [
    "dfsample = df.sample(n=30)\n",
    "bycontinentsample = dfsample.groupby(\"Continent\")\n",
    "femalemeanbycontinentsample = bycontinentsample[\"Net primary school enrolment ratio female (%)\"].mean()\n",
    "femalemeanbycontinentsample"
   ]
  },
  {
   "cell_type": "code",
   "execution_count": 57,
   "id": "5cdcf5f8-45cb-4183-94d4-7f529471c637",
   "metadata": {},
   "outputs": [
    {
     "data": {
      "text/plain": [
       "Continent\n",
       "1    85.789474\n",
       "2    92.911111\n",
       "3    67.574468\n",
       "4    95.000000\n",
       "5    89.137931\n",
       "6    89.040000\n",
       "7    85.444444\n",
       "Name: Net primary school enrolment ratio female (%), dtype: float64"
      ]
     },
     "execution_count": 57,
     "metadata": {},
     "output_type": "execute_result"
    }
   ],
   "source": [
    "femalemeanbycontinent = bycontinent[\"Net primary school enrolment ratio female (%)\"].mean()\n",
    "femalemeanbycontinent"
   ]
  },
  {
   "cell_type": "code",
   "execution_count": null,
   "id": "b5caabe2-9d6b-48d7-8066-d39d442bc682",
   "metadata": {},
   "outputs": [],
   "source": [
    "4) Calcula la cantidad de ayuda recibida por cada municipio en función del númeto total de habitantes. (v2)"
   ]
  },
  {
   "cell_type": "code",
   "execution_count": 112,
   "id": "671c8a57-3b95-4ba5-9d93-f311f1d8b140",
   "metadata": {},
   "outputs": [
    {
     "name": "stdout",
     "output_type": "stream",
     "text": [
      "Dataframe de Municipios:\n",
      "        Nombre  Código Postal  Población\n",
      "0   Municipio1          60494      39232\n",
      "1   Municipio2          65125      15315\n",
      "2   Municipio3          15306      34075\n",
      "3   Municipio4          43936      10127\n",
      "4   Municipio5          77013      19470\n",
      "5   Municipio6          73691      10158\n",
      "6   Municipio7          63075       7214\n",
      "7   Municipio8          49755      41525\n",
      "8   Municipio9          72468      17417\n",
      "9  Municipio10          56930      35902\n",
      "\n",
      "Dataframe de Ayudas:\n",
      "         Nombre  Ayuda Económica (en euros)  Número de Beneficiarios\n",
      "0   Municipio10                        9989                       72\n",
      "1    Municipio3                        1230                       23\n",
      "2    Municipio5                        2528                       48\n",
      "3    Municipio2                        7534                       80\n",
      "4    Municipio2                        1018                       47\n",
      "5    Municipio6                        9086                      100\n",
      "6    Municipio8                        6458                       25\n",
      "7    Municipio9                        4996                       80\n",
      "8    Municipio2                        6328                       52\n",
      "9    Municipio6                        2031                       79\n",
      "10   Municipio7                        4130                       36\n",
      "11   Municipio6                        4632                       87\n",
      "12  Municipio10                        4909                       80\n",
      "13   Municipio4                        3334                       85\n",
      "14   Municipio9                        9896                       46\n",
      "15   Municipio8                        8339                       66\n",
      "16   Municipio8                        2494                       21\n",
      "17   Municipio9                        2318                       86\n",
      "18   Municipio5                        6243                       59\n",
      "19   Municipio1                        9322                       50\n",
      "         Nombre  Código Postal  Población  Ayuda Económica (en euros)  \\\n",
      "0    Municipio1          60494      39232                        9322   \n",
      "1    Municipio2          65125      15315                        7534   \n",
      "2    Municipio2          65125      15315                        1018   \n",
      "3    Municipio2          65125      15315                        6328   \n",
      "4    Municipio3          15306      34075                        1230   \n",
      "5    Municipio4          43936      10127                        3334   \n",
      "6    Municipio5          77013      19470                        2528   \n",
      "7    Municipio5          77013      19470                        6243   \n",
      "8    Municipio6          73691      10158                        9086   \n",
      "9    Municipio6          73691      10158                        2031   \n",
      "10   Municipio6          73691      10158                        4632   \n",
      "11   Municipio7          63075       7214                        4130   \n",
      "12   Municipio8          49755      41525                        6458   \n",
      "13   Municipio8          49755      41525                        8339   \n",
      "14   Municipio8          49755      41525                        2494   \n",
      "15   Municipio9          72468      17417                        4996   \n",
      "16   Municipio9          72468      17417                        9896   \n",
      "17   Municipio9          72468      17417                        2318   \n",
      "18  Municipio10          56930      35902                        9989   \n",
      "19  Municipio10          56930      35902                        4909   \n",
      "\n",
      "    Número de Beneficiarios  \n",
      "0                        50  \n",
      "1                        80  \n",
      "2                        47  \n",
      "3                        52  \n",
      "4                        23  \n",
      "5                        85  \n",
      "6                        48  \n",
      "7                        59  \n",
      "8                       100  \n",
      "9                        79  \n",
      "10                       87  \n",
      "11                       36  \n",
      "12                       25  \n",
      "13                       66  \n",
      "14                       21  \n",
      "15                       80  \n",
      "16                       46  \n",
      "17                       86  \n",
      "18                       72  \n",
      "19                       80  \n",
      "             Ayuda Económica (en euros)  Población  \\\n",
      "Nombre                                               \n",
      "Municipio1                         9322      39232   \n",
      "Municipio10                       14898      71804   \n",
      "Municipio2                        14880      45945   \n",
      "Municipio3                         1230      34075   \n",
      "Municipio4                         3334      10127   \n",
      "Municipio5                         8771      38940   \n",
      "Municipio6                        15749      30474   \n",
      "Municipio7                         4130       7214   \n",
      "Municipio8                        17291     124575   \n",
      "Municipio9                        17210      52251   \n",
      "\n",
      "             ayuda en funcion de poblacion  \n",
      "Nombre                                      \n",
      "Municipio1                        0.237612  \n",
      "Municipio10                       0.207481  \n",
      "Municipio2                        0.323865  \n",
      "Municipio3                        0.036097  \n",
      "Municipio4                        0.329219  \n",
      "Municipio5                        0.225244  \n",
      "Municipio6                        0.516801  \n",
      "Municipio7                        0.572498  \n",
      "Municipio8                        0.138800  \n",
      "Municipio9                        0.329372  \n"
     ]
    }
   ],
   "source": [
    "# V2. Con necesidad de agrupar\n",
    "##Esto es el profe haciendo las dataframes\n",
    "import pandas as pd\n",
    "import random\n",
    "\n",
    "random.seed(0)\n",
    "\n",
    "nombres = [f'Municipio{i}' for i in range(1, 11)]\n",
    "\n",
    "data_municipios = {\n",
    "    'Nombre': nombres,\n",
    "    'Código Postal': [random.randint(10000, 99999) for _ in range(10)],\n",
    "    'Población': [random.randint(1000, 50000) for _ in range(10)]  # Añadimos un atributo aleatorio, en este caso \"Población\"\n",
    "}\n",
    "\n",
    "df_municipios = pd.DataFrame(data_municipios)\n",
    "\n",
    "\n",
    "data_ayudas = {\n",
    "    'Nombre': [random.choice(nombres) for _ in range(20)],\n",
    "    'Ayuda Económica (en euros)': [random.randint(1000, 10000) for _ in range(20)],\n",
    "    'Número de Beneficiarios': [random.randint(10, 100) for _ in range(20)]\n",
    "}\n",
    "\n",
    "df_ayudas = pd.DataFrame(data_ayudas)\n",
    "\n",
    "print(\"Dataframe de Municipios:\")\n",
    "print(df_municipios)\n",
    "\n",
    "print(\"\\nDataframe de Ayudas:\")\n",
    "print(df_ayudas)\n",
    "\n",
    "##empieza lo mio\n",
    "\n",
    "\n",
    "muniayudas = pd.merge(df_municipios,df_ayudas,how=\"left\")\n",
    "print(muniayudas)\n",
    "muniayudasgb = muniayudas.groupby(\"Nombre\")[[\"Ayuda Económica (en euros)\",\"Población\"]].sum()\n",
    "\n",
    "muniayudasgb[\"ayuda en funcion de poblacion\"] = muniayudasgb[\"Ayuda Económica (en euros)\"]/muniayudasgb[\"Población\"]\n",
    "print(muniayudasgb)"
   ]
  },
  {
   "cell_type": "markdown",
   "id": "b76812c8-a5b6-49be-89a8-06eddb776421",
   "metadata": {},
   "source": [
    "5) Agrupa los datos por el nombre de de la escuela. - ¿Qué escuela tiene más infantes? - ¿Qué escuela tiene los infantes más altos?"
   ]
  },
  {
   "cell_type": "code",
   "execution_count": 227,
   "id": "dc21e09a-54da-4642-a082-8174d88ff07e",
   "metadata": {},
   "outputs": [
    {
     "name": "stdout",
     "output_type": "stream",
     "text": [
      "   school class            name date_Of_Birth  age  height  weight  address\n",
      "S1   s001     V  Alberto Franco    15/05/2002   12     173      35  street1\n",
      "S2   s002     V    Gino Mcneill    17/05/2002   12     192      32  street2\n",
      "S3   s003    VI     Ryan Parkes    16/02/1999   13     186      33  street3\n",
      "S4   s001    VI    Eesha Hinton    25/09/1998   13     167      30  street1\n",
      "S5   s002     V    Gino Mcneill    11/05/2002   14     151      31  street2\n",
      "S6   s004    VI    David Parkes    15/09/1997   12     159      32  street4\n",
      "  school  name\n",
      "0   s001     2\n",
      "1   s002     2\n",
      "2   s003     1\n",
      "3   s004     1\n",
      "La escuela con mas ninyos es s001\n",
      "  school  height\n",
      "0   s001   170.0\n",
      "1   s002   171.5\n",
      "2   s003   186.0\n",
      "3   s004   159.0\n",
      "La escuela con los ninyos mas altos es s003\n"
     ]
    }
   ],
   "source": [
    "data = {\n",
    "    'school': ['s001', 's002', 's003', 's001', 's002', 's004'],\n",
    "    'class': ['V', 'V', 'VI', 'VI', 'V', 'VI'],\n",
    "    'name': ['Alberto Franco', 'Gino Mcneill', 'Ryan Parkes', 'Eesha Hinton', 'Gino Mcneill', 'David Parkes'],\n",
    "    'date_Of_Birth': ['15/05/2002', '17/05/2002', '16/02/1999', '25/09/1998', '11/05/2002', '15/09/1997'],\n",
    "    'age': [12, 12, 13, 13, 14, 12],\n",
    "    'height': [173, 192, 186, 167, 151, 159],\n",
    "    'weight': [35, 32, 33, 30, 31, 32],\n",
    "    'address': ['street1', 'street2', 'street3', 'street1', 'street2', 'street4']\n",
    "}\n",
    "\n",
    "df = pd.DataFrame(data, index=['S1', 'S2', 'S3', 'S4','S5','S6'])\n",
    "print(df)\n",
    "\n",
    "#aqui empieza lo mio\n",
    "dfgb = df.groupby(\"school\")\n",
    "a = dfgb[\"name\"].count().reset_index()\n",
    "print(a)\n",
    "escuelaconmasninyosindice = a[\"name\"].argmax() #argmax saca el indice del valor maximo\n",
    "escuelaconmasninyosindice\n",
    "escuelaconmasninyos=a[\"school\"][escuelaconmasninyosindice]\n",
    "print(\"La escuela con mas ninyos es \"+escuelaconmasninyos)\n",
    "\n",
    "b = dfgb[\"height\"].mean().reset_index()\n",
    "print(b)\n",
    "escuelaconmasalturaindice = b[\"height\"].argmax()\n",
    "escuelaconmasaltura = b[\"school\"][escuelaconmasalturaindice]\n",
    "print(\"La escuela con los ninyos mas altos es \"+escuelaconmasaltura)"
   ]
  }
 ],
 "metadata": {
  "kernelspec": {
   "display_name": "Python 3 (ipykernel)",
   "language": "python",
   "name": "python3"
  },
  "language_info": {
   "codemirror_mode": {
    "name": "ipython",
    "version": 3
   },
   "file_extension": ".py",
   "mimetype": "text/x-python",
   "name": "python",
   "nbconvert_exporter": "python",
   "pygments_lexer": "ipython3",
   "version": "3.12.0"
  }
 },
 "nbformat": 4,
 "nbformat_minor": 5
}
